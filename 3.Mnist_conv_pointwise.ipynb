{
  "cells": [
    {
      "cell_type": "code",
      "execution_count": 2,
      "id": "cd8dd6a8-9a5e-454a-9ff4-647115fa61fa",
      "metadata": {
        "id": "cd8dd6a8-9a5e-454a-9ff4-647115fa61fa"
      },
      "outputs": [],
      "source": [
        "import torch\n",
        "import torch.nn as nn\n",
        "import torch.optim as optim\n",
        "import torchvision\n",
        "import torchvision.transforms as transforms\n",
        "from torch.utils.data import DataLoader, Subset\n",
        "import numpy as np\n",
        "import torch.nn.functional as F"
      ]
    },
    {
      "cell_type": "code",
      "execution_count": 3,
      "id": "ab5e0c87-b99e-4cde-8656-4baa0d075c27",
      "metadata": {
        "colab": {
          "base_uri": "https://localhost:8080/"
        },
        "id": "ab5e0c87-b99e-4cde-8656-4baa0d075c27",
        "outputId": "68896198-18f2-408f-d675-3c1b05f3f26e"
      },
      "outputs": [
        {
          "output_type": "stream",
          "name": "stderr",
          "text": [
            "100%|██████████| 9.91M/9.91M [00:00<00:00, 56.5MB/s]\n",
            "100%|██████████| 28.9k/28.9k [00:00<00:00, 1.68MB/s]\n",
            "100%|██████████| 1.65M/1.65M [00:00<00:00, 14.3MB/s]\n",
            "100%|██████████| 4.54k/4.54k [00:00<00:00, 4.45MB/s]\n"
          ]
        },
        {
          "output_type": "stream",
          "name": "stdout",
          "text": [
            "Test set: Average loss: 0.0362, Accuracy: 168/1000 (17%)\n",
            "Test set: Average loss: 0.0349, Accuracy: 331/1000 (33%)\n",
            "Test set: Average loss: 0.0341, Accuracy: 336/1000 (34%)\n",
            "Test set: Average loss: 0.0335, Accuracy: 371/1000 (37%)\n",
            "Test set: Average loss: 0.0330, Accuracy: 447/1000 (45%)\n",
            "Test set: Average loss: 0.0324, Accuracy: 495/1000 (50%)\n",
            "Test set: Average loss: 0.0318, Accuracy: 533/1000 (53%)\n",
            "Test set: Average loss: 0.0315, Accuracy: 544/1000 (54%)\n",
            "Test set: Average loss: 0.0310, Accuracy: 561/1000 (56%)\n",
            "Test set: Average loss: 0.0305, Accuracy: 606/1000 (61%)\n",
            "Test set: Average loss: 0.0303, Accuracy: 607/1000 (61%)\n",
            "Test set: Average loss: 0.0299, Accuracy: 651/1000 (65%)\n",
            "Test set: Average loss: 0.0297, Accuracy: 632/1000 (63%)\n",
            "Test set: Average loss: 0.0294, Accuracy: 678/1000 (68%)\n",
            "Test set: Average loss: 0.0290, Accuracy: 703/1000 (70%)\n",
            "Test set: Average loss: 0.0289, Accuracy: 694/1000 (69%)\n",
            "Test set: Average loss: 0.0286, Accuracy: 713/1000 (71%)\n",
            "Test set: Average loss: 0.0285, Accuracy: 722/1000 (72%)\n",
            "Test set: Average loss: 0.0287, Accuracy: 693/1000 (69%)\n",
            "Test set: Average loss: 0.0278, Accuracy: 769/1000 (77%)\n",
            "Test set: Average loss: 0.0277, Accuracy: 783/1000 (78%)\n",
            "Test set: Average loss: 0.0276, Accuracy: 789/1000 (79%)\n",
            "Test set: Average loss: 0.0272, Accuracy: 814/1000 (81%)\n",
            "Test set: Average loss: 0.0269, Accuracy: 825/1000 (82%)\n"
          ]
        }
      ],
      "source": [
        "# Load MNIST dataset (subset for faster training)\n",
        "transform = transforms.Compose([transforms.ToTensor(), transforms.Normalize((0.5,), (0.5,))])\n",
        "\n",
        "trainset = torchvision.datasets.MNIST(root=\"./data\", train=True, download=True, transform=transform)\n",
        "testset = torchvision.datasets.MNIST(root=\"./data\", train=False, download=True, transform=transform)\n",
        "\n",
        "# Use only a small subset to speed up training\n",
        "train_subset = Subset(trainset, np.random.choice(len(trainset), 5000, replace=False))\n",
        "test_subset = Subset(testset, np.random.choice(len(testset), 1000, replace=False))\n",
        "\n",
        "train_loader = DataLoader(train_subset, batch_size=64, shuffle=True)\n",
        "test_loader = DataLoader(test_subset, batch_size=64, shuffle=False)\n",
        "\n",
        "# Define different models\n",
        "class CNNModel(nn.Module):  # No hidden layer, Softmax output\n",
        "    def __init__(self):\n",
        "        super().__init__()\n",
        "        self.conv1 = nn.Conv2d(1, 32, kernel_size=3, padding=1)\n",
        "        self.pool = nn.MaxPool2d(2, 2)\n",
        "        self.conv2 = nn.Conv2d(32, 64, kernel_size=3, padding=1)\n",
        "\n",
        "        self.conv_class = nn.Conv2d(64, 10, kernel_size=1)\n",
        "\n",
        "    def forward(self, x):\n",
        "        x = self.pool(F.relu(self.conv1(x)))\n",
        "        x = self.pool(F.relu(self.conv2(x)))\n",
        "\n",
        "        x = self.conv_class(x)\n",
        "        x = F.adaptive_avg_pool2d(x, (1,1))\n",
        "        x = x.view(x.size(0), -1)\n",
        "\n",
        "        return torch.softmax(x, dim=1)\n",
        "\n",
        "# 3. Initialize Model and Optimizer\n",
        "device = torch.device(\"cuda\" if torch.cuda.is_available() else \"cpu\")\n",
        "model = CNNModel().to(device)\n",
        "optimizer = optim.Adam(model.parameters(), lr=0.001)\n",
        "criterion = nn.CrossEntropyLoss()\n",
        "\n",
        "# 4. Training Loop\n",
        "def train(epoch):\n",
        "    model.train()\n",
        "    for batch_idx, (data, target) in enumerate(train_loader):\n",
        "        data, target = data.to(device), target.to(device)\n",
        "        optimizer.zero_grad()\n",
        "        output = model(data)\n",
        "        loss = criterion(output, target)\n",
        "        loss.backward()\n",
        "        optimizer.step()\n",
        "\n",
        "# 5. Testing Loop\n",
        "def test():\n",
        "    model.eval()\n",
        "    test_loss = 0\n",
        "    correct = 0\n",
        "    with torch.no_grad():\n",
        "        for data, target in test_loader:\n",
        "            data, target = data.to(device), target.to(device)\n",
        "            output = model(data)\n",
        "            test_loss += criterion(output, target).item()\n",
        "            pred = output.argmax(dim=1, keepdim=True)\n",
        "            correct += pred.eq(target.view_as(pred)).sum().item()\n",
        "\n",
        "    test_loss /= len(test_loader.dataset)\n",
        "    print(f'Test set: Average loss: {test_loss:.4f}, Accuracy: {correct}/{len(test_loader.dataset)} ({100. * correct / len(test_loader.dataset):.0f}%)')\n",
        "\n",
        "# 6. Run Training and Testing\n",
        "for epoch in range(1, 25):\n",
        "    train(epoch)\n",
        "    test()\n",
        "\n",
        "# 7. Example Inference\n",
        "def predict(image):\n",
        "    model.eval()\n",
        "    with torch.no_grad():\n",
        "        image = image.to(device).unsqueeze(0)  # Add batch dimension\n",
        "        output = model(image)\n",
        "        probabilities = torch.softmax(output, dim=1)\n",
        "    return probabilities.cpu().numpy().flatten()"
      ]
    }
  ],
  "metadata": {
    "kernelspec": {
      "display_name": "Python 3 (ipykernel)",
      "language": "python",
      "name": "python3"
    },
    "language_info": {
      "codemirror_mode": {
        "name": "ipython",
        "version": 3
      },
      "file_extension": ".py",
      "mimetype": "text/x-python",
      "name": "python",
      "nbconvert_exporter": "python",
      "pygments_lexer": "ipython3",
      "version": "3.11.5"
    },
    "colab": {
      "provenance": []
    }
  },
  "nbformat": 4,
  "nbformat_minor": 5
}